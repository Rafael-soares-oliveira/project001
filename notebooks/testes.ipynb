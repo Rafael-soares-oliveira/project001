{
 "cells": [
  {
   "cell_type": "code",
   "execution_count": 1,
   "id": "b5ee7c1c",
   "metadata": {},
   "outputs": [],
   "source": [
    "import pandas as pd"
   ]
  },
  {
   "cell_type": "code",
   "execution_count": 5,
   "id": "f6f8db5e",
   "metadata": {},
   "outputs": [],
   "source": [
    "df = pd.read_parquet(\"C:/Users/Rafas/Desktop/repositorios/project001/data/01_raw/stock/EMBR3_SA.parquet\")\n",
    "df2 = pd.read_parquet(\"C:/Users/Rafas/Desktop/repositorios/project001/data/02_intermediate/stock/EMBR3_SA.parquet\")"
   ]
  }
 ],
 "metadata": {
  "kernelspec": {
   "display_name": ".venv",
   "language": "python",
   "name": "python3"
  },
  "language_info": {
   "codemirror_mode": {
    "name": "ipython",
    "version": 3
   },
   "file_extension": ".py",
   "mimetype": "text/x-python",
   "name": "python",
   "nbconvert_exporter": "python",
   "pygments_lexer": "ipython3",
   "version": "3.11.13"
  }
 },
 "nbformat": 4,
 "nbformat_minor": 5
}
